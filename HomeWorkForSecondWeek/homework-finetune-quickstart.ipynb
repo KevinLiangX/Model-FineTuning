{
 "cells": [
  {
   "cell_type": "markdown",
   "id": "f1d2d556-3c21-4027-b44d-73ad327b0488",
   "metadata": {},
   "source": [
    "# 测试环境代理是否正常"
   ]
  },
  {
   "cell_type": "code",
   "execution_count": 1,
   "id": "efc351a7-686d-43ee-ac26-3c20c3a30e6a",
   "metadata": {},
   "outputs": [
    {
     "name": "stdout",
     "output_type": "stream",
     "text": [
      "✅ HuggingFace 连接成功，状态码: 200\n"
     ]
    }
   ],
   "source": [
    "# 测试代理\n",
    "import os\n",
    "import requests\n",
    "\n",
    "# 设置代理环境变量\n",
    "os.environ['HTTP_PROXY'] = 'http://127.0.0.1:7890'\n",
    "os.environ['HTTPS_PROXY'] = 'http://127.0.0.1:7890'\n",
    "os.environ['ALL_PROXY'] = 'socks5://127.0.0.1:7891'\n",
    "\n",
    "# 测试代理连接\n",
    "try:\n",
    "    response = requests.get('https://huggingface.co', timeout=10)\n",
    "    print(\"✅ HuggingFace 连接成功，状态码:\", response.status_code)\n",
    "except Exception as e:\n",
    "    print(\"❌ 连接失败:\", e)\n",
    "\n",
    "# 设置 HuggingFace 缓存路径\n",
    "os.environ['HF_HOME'] = '/home/KevinLiangX/Codes/LLM-quickstart-main/hf'\n",
    "os.environ['HF_HUB_CACHE'] = '/home/KevinLiangX/Codes/LLM-quickstart-main/hf_hu'\n",
    "\n",
    "# 服务器环境 ubuntu22.04 GPU 2080Ti 22G"
   ]
  },
  {
   "cell_type": "markdown",
   "id": "386e5b7c-ef88-42f0-84a8-d8f0de52ac78",
   "metadata": {},
   "source": [
    "# 下载测试集"
   ]
  },
  {
   "cell_type": "code",
   "execution_count": 2,
   "id": "50fe00ff-a73c-43c1-92de-ed207457c129",
   "metadata": {},
   "outputs": [],
   "source": [
    "from datasets import load_dataset\n",
    "\n",
    "dataset = load_dataset(\"yelp_review_full\")"
   ]
  },
  {
   "cell_type": "markdown",
   "id": "ca8a5906-6c61-4fb1-bd18-06365cf1a868",
   "metadata": {},
   "source": [
    "# 预处理数据"
   ]
  },
  {
   "cell_type": "code",
   "execution_count": 3,
   "id": "5d07c6bf-1a91-4a48-b08b-1f8685ad26b9",
   "metadata": {},
   "outputs": [
    {
     "name": "stderr",
     "output_type": "stream",
     "text": [
      "/home/KevinLiangX/Codes/LLM-quickstart-main/.venv/lib/python3.10/site-packages/huggingface_hub/file_download.py:943: FutureWarning: `resume_download` is deprecated and will be removed in version 1.0.0. Downloads always resume when possible. If you want to force a new download, use `force_download=True`.\n",
      "  warnings.warn(\n"
     ]
    }
   ],
   "source": [
    "# 填充到最大长度的策略，处理整个数据集：\n",
    "from transformers import AutoTokenizer\n",
    "\n",
    "tokenizer = AutoTokenizer.from_pretrained(\"bert-base-cased\")\n",
    "\n",
    "\n",
    "def tokenize_function(examples):\n",
    "    return tokenizer(examples[\"text\"], padding=\"max_length\", truncation=True)\n",
    "\n",
    "\n",
    "tokenized_datasets = dataset.map(tokenize_function, batched=True)"
   ]
  },
  {
   "cell_type": "code",
   "execution_count": 4,
   "id": "cef31b8c-6071-4958-887a-603005ef6adc",
   "metadata": {},
   "outputs": [
    {
     "name": "stdout",
     "output_type": "stream",
     "text": [
      "📊 数据集信息:\n",
      "   训练集: 650,000 样本\n",
      "   评估集: 50,000 样本\n"
     ]
    }
   ],
   "source": [
    "# 完整训练集\n",
    "full_train_dataset = tokenized_datasets[\"train\"]\n",
    "full_eval_dataset = tokenized_datasets[\"test\"]\n",
    "print(f\"📊 数据集信息:\")\n",
    "print(f\"   训练集: {len(full_train_dataset):,} 样本\")\n",
    "print(f\"   评估集: {len(full_eval_dataset):,} 样本\")"
   ]
  },
  {
   "cell_type": "markdown",
   "id": "ef32f2dc-eb74-4c6b-919b-fe404be7ddb1",
   "metadata": {},
   "source": [
    "# 微调配置"
   ]
  },
  {
   "cell_type": "code",
   "execution_count": 5,
   "id": "10b2c6d1-bc03-45b0-9170-7d18187853b7",
   "metadata": {},
   "outputs": [
    {
     "name": "stderr",
     "output_type": "stream",
     "text": [
      "Some weights of BertForSequenceClassification were not initialized from the model checkpoint at bert-base-cased and are newly initialized: ['classifier.bias', 'classifier.weight']\n",
      "You should probably TRAIN this model on a down-stream task to be able to use it for predictions and inference.\n"
     ]
    }
   ],
   "source": [
    "from transformers import AutoModelForSequenceClassification\n",
    "\n",
    "model = AutoModelForSequenceClassification.from_pretrained(\"bert-base-cased\", num_labels=5)"
   ]
  },
  {
   "cell_type": "markdown",
   "id": "2ddd3606-51d0-4e4b-ae7c-71ebecb2ced1",
   "metadata": {},
   "source": [
    "## 训练过程中的评估"
   ]
  },
  {
   "cell_type": "code",
   "execution_count": 6,
   "id": "d7e87455-51ac-4281-8181-ed3b5be47d44",
   "metadata": {},
   "outputs": [
    {
     "name": "stdout",
     "output_type": "stream",
     "text": [
      "✅ 评估函数已定义\n"
     ]
    }
   ],
   "source": [
    "import numpy as np\n",
    "from sklearn.metrics import accuracy_score\n",
    "\n",
    "def compute_metrics(eval_pred):\n",
    "    \"\"\"计算准确率指标\"\"\"\n",
    "    predictions, labels = eval_pred\n",
    "    predictions = np.argmax(predictions, axis=-1)\n",
    "    accuracy = accuracy_score(labels, predictions)\n",
    "    return {\"accuracy\": accuracy}\n",
    "\n",
    "print(\"✅ 评估函数已定义\")"
   ]
  },
  {
   "cell_type": "markdown",
   "id": "1b0ec83a-bdd3-49b1-aa1e-ae7609fde47e",
   "metadata": {},
   "source": [
    "## 训练超参"
   ]
  },
  {
   "cell_type": "code",
   "execution_count": 7,
   "id": "66da2213-8781-4e93-be3b-ec3fc77b0e24",
   "metadata": {},
   "outputs": [],
   "source": [
    "from transformers import TrainingArguments, Trainer\n",
    "\n",
    "model_dir = \"models/bert-base-cased-finetune-yelp\"\n",
    "\n",
    "\n",
    "training_args = TrainingArguments(\n",
    "    output_dir=model_dir,\n",
    "    \n",
    "    # === 评估策略 === Yelp 使用step评估比epoch好\n",
    "    evaluation_strategy=\"steps\", # 按训练步数进行评估， Yelp数据集大(650K样本)，每epoch约20K步，Yelp数据集大(650K样本)，每epoch约20K步\n",
    "    save_strategy=\"steps\", # 按训练步数保存模型checkpoint， 与评估策略保持一致， 及时保存最佳模型，避免丢失\n",
    "    logging_strategy=\"steps\", #按训练步数记录日志，提供详细的训练过程监控，便于调试和分析训练曲线\n",
    "    eval_steps=500,  # 每500步评估一次，约每och评估20次 ep(20K/500)，平衡评估频率和训练效率，平衡评估频率和训练效率\n",
    "    save_steps=500, # 每500步保存一次checkpoint，与eval_steps同步，保存最佳模# 每500步记录一次训练日志\n",
    "    logging_steps=50, # 每50步记录一次训练日志，提供详细的loss变化曲线 #\n",
    "    \n",
    "    # === 训练配置 ===\n",
    "    per_device_train_batch_size=32, # 每个GPU的训练批次大小，平衡显存使用和训练稳定性，32样本 × 512长度 × 4字节，较小batch_size训练更稳定\n",
    "    per_device_eval_batch_size=64, # 每个GPU的评估批次大小，评估时不需要梯度，可以用更大batch，加速评估过程，节省时间\n",
    "    gradient_accumulation_steps=2, # 累积X个batch的梯度再更新，在显存限制下模拟大batch_size，获得大batch_size的训练效果\n",
    "    num_train_epochs=2, # 训练2个完整的数据遍历，BERT在大数据集上通常2-4个epoch最优，1 epoch欠拟合，5+ epoch过拟合，Yelp特点: 3个epoch通常能达到最佳性能\n",
    "    \n",
    "    # === 学习率优化===\n",
    "    learning_rate=2.5e-5, # BERT微调的经典学习率范围[1e-5, 5e-5]，2e-5是平衡收敛速度和稳定性的甜点，太大(>5e-5)不稳定，太小(<1e-5)收敛慢\n",
    "    weight_decay=0.01, # L2正则化系数，防止权重过大，防止过拟合，提高泛化能力，loss = original_loss + 0.01 × ||weights||²，0.01是BERT微调的标准设置\n",
    "    warmup_steps=800, # 前xxx步的线性增加学习率，避免训练初期学习率过大导致不稳定，约占总步数的3-5% (2000/60000)，0 → 3.2e-5 (线性增长) 总步数3%\n",
    "    lr_scheduler_type=\"cosine\", # 余弦退火学习率调度，训练后期缓慢降低学习率，精细调优，lr = lr_min + (lr_max - lr_min) × (1 + cos(π×t/T))/2，比线性衰减更平滑，避免震荡\n",
    "    \n",
    "    # === 正则化 ===\n",
    "    label_smoothing_factor=0.1,# 标签平滑，软化one-hot标签，通常能提升0.5-1%的准确率\n",
    "    \n",
    "    # === 性能优化 ===\n",
    "    fp16=True, # 使用16位浮点数代替32位，跟2080Ti显卡有关\n",
    "    dataloader_num_workers=2, # 适中多进程，避免过多进程竞争\n",
    "    gradient_checkpointing=False, # 重新计算中间激活值而不是存储，显存不足时的必要选择\n",
    "    dataloader_pin_memory=True,\n",
    "    max_grad_norm=1.0,         # 梯度裁剪，防止梯度爆炸\n",
    "    \n",
    "    # === 模型选择 ===\n",
    "    load_best_model_at_end=True, # 训练结束后加载最佳checkpoint\n",
    "    metric_for_best_model=\"eval_accuracy\", # 使用验证准确率作为最佳模型标准\n",
    "    greater_is_better=True, # 准确率越高越好\n",
    "    save_total_limit=2, # 最多保留2个checkpoint\n",
    "\n",
    "    # === 监控===\n",
    "    logging_dir=f'{model_dir}/logs',\n",
    "\n",
    "    # === 其他优化 ===\n",
    "    remove_unused_columns=True,\n",
    "    seed=42, # 随机种子，确保结果可复现\n",
    ")\n"
   ]
  },
  {
   "cell_type": "markdown",
   "id": "3a83a498-934d-4494-b84c-ab0c956843ce",
   "metadata": {},
   "source": [
    "#  开始训练"
   ]
  },
  {
   "cell_type": "code",
   "execution_count": 8,
   "id": "88f94708-ab0b-4c2b-90f4-485d2b260feb",
   "metadata": {},
   "outputs": [
    {
     "name": "stdout",
     "output_type": "stream",
     "text": [
      "🚀 Trainer已创建，准备开始训练...\n"
     ]
    }
   ],
   "source": [
    "# 创建Trainer\n",
    "trainer = Trainer(\n",
    "    model=model,\n",
    "    args=training_args,\n",
    "    train_dataset=full_train_dataset,\n",
    "    eval_dataset=full_eval_dataset,\n",
    "    compute_metrics=compute_metrics,\n",
    ")\n",
    "\n",
    "print(\"🚀 Trainer已创建，准备开始训练...\")"
   ]
  },
  {
   "cell_type": "code",
   "execution_count": 9,
   "id": "49de6802-273f-4094-828c-3681b713dd81",
   "metadata": {},
   "outputs": [
    {
     "data": {
      "text/html": [
       "\n",
       "    <div>\n",
       "      \n",
       "      <progress value='20312' max='20312' style='width:300px; height:20px; vertical-align: middle;'></progress>\n",
       "      [20312/20312 8:38:37, Epoch 1/2]\n",
       "    </div>\n",
       "    <table border=\"1\" class=\"dataframe\">\n",
       "  <thead>\n",
       " <tr style=\"text-align: left;\">\n",
       "      <th>Step</th>\n",
       "      <th>Training Loss</th>\n",
       "      <th>Validation Loss</th>\n",
       "      <th>Accuracy</th>\n",
       "    </tr>\n",
       "  </thead>\n",
       "  <tbody>\n",
       "    <tr>\n",
       "      <td>500</td>\n",
       "      <td>1.098800</td>\n",
       "      <td>1.090557</td>\n",
       "      <td>0.581040</td>\n",
       "    </tr>\n",
       "    <tr>\n",
       "      <td>1000</td>\n",
       "      <td>1.044000</td>\n",
       "      <td>1.073347</td>\n",
       "      <td>0.605460</td>\n",
       "    </tr>\n",
       "    <tr>\n",
       "      <td>1500</td>\n",
       "      <td>1.011900</td>\n",
       "      <td>1.004492</td>\n",
       "      <td>0.641460</td>\n",
       "    </tr>\n",
       "    <tr>\n",
       "      <td>2000</td>\n",
       "      <td>1.003700</td>\n",
       "      <td>0.972724</td>\n",
       "      <td>0.658960</td>\n",
       "    </tr>\n",
       "    <tr>\n",
       "      <td>2500</td>\n",
       "      <td>0.978500</td>\n",
       "      <td>0.966885</td>\n",
       "      <td>0.662680</td>\n",
       "    </tr>\n",
       "    <tr>\n",
       "      <td>3000</td>\n",
       "      <td>0.978000</td>\n",
       "      <td>0.964803</td>\n",
       "      <td>0.665780</td>\n",
       "    </tr>\n",
       "    <tr>\n",
       "      <td>3500</td>\n",
       "      <td>0.944400</td>\n",
       "      <td>0.961881</td>\n",
       "      <td>0.668760</td>\n",
       "    </tr>\n",
       "    <tr>\n",
       "      <td>4000</td>\n",
       "      <td>0.947300</td>\n",
       "      <td>0.964928</td>\n",
       "      <td>0.665500</td>\n",
       "    </tr>\n",
       "    <tr>\n",
       "      <td>4500</td>\n",
       "      <td>0.966000</td>\n",
       "      <td>0.946655</td>\n",
       "      <td>0.676380</td>\n",
       "    </tr>\n",
       "    <tr>\n",
       "      <td>5000</td>\n",
       "      <td>0.943000</td>\n",
       "      <td>0.959583</td>\n",
       "      <td>0.670920</td>\n",
       "    </tr>\n",
       "    <tr>\n",
       "      <td>5500</td>\n",
       "      <td>0.945800</td>\n",
       "      <td>0.939840</td>\n",
       "      <td>0.677700</td>\n",
       "    </tr>\n",
       "    <tr>\n",
       "      <td>6000</td>\n",
       "      <td>0.926600</td>\n",
       "      <td>0.944650</td>\n",
       "      <td>0.676520</td>\n",
       "    </tr>\n",
       "    <tr>\n",
       "      <td>6500</td>\n",
       "      <td>0.932400</td>\n",
       "      <td>0.933138</td>\n",
       "      <td>0.683280</td>\n",
       "    </tr>\n",
       "    <tr>\n",
       "      <td>7000</td>\n",
       "      <td>0.945300</td>\n",
       "      <td>0.933277</td>\n",
       "      <td>0.682660</td>\n",
       "    </tr>\n",
       "    <tr>\n",
       "      <td>7500</td>\n",
       "      <td>0.931700</td>\n",
       "      <td>0.927414</td>\n",
       "      <td>0.687600</td>\n",
       "    </tr>\n",
       "    <tr>\n",
       "      <td>8000</td>\n",
       "      <td>0.925200</td>\n",
       "      <td>0.930594</td>\n",
       "      <td>0.686300</td>\n",
       "    </tr>\n",
       "    <tr>\n",
       "      <td>8500</td>\n",
       "      <td>0.922900</td>\n",
       "      <td>0.930946</td>\n",
       "      <td>0.684200</td>\n",
       "    </tr>\n",
       "    <tr>\n",
       "      <td>9000</td>\n",
       "      <td>0.918900</td>\n",
       "      <td>0.920988</td>\n",
       "      <td>0.688200</td>\n",
       "    </tr>\n",
       "    <tr>\n",
       "      <td>9500</td>\n",
       "      <td>0.939700</td>\n",
       "      <td>0.919582</td>\n",
       "      <td>0.691340</td>\n",
       "    </tr>\n",
       "    <tr>\n",
       "      <td>10000</td>\n",
       "      <td>0.929600</td>\n",
       "      <td>0.919771</td>\n",
       "      <td>0.690880</td>\n",
       "    </tr>\n",
       "    <tr>\n",
       "      <td>10500</td>\n",
       "      <td>0.891400</td>\n",
       "      <td>0.915949</td>\n",
       "      <td>0.694120</td>\n",
       "    </tr>\n",
       "    <tr>\n",
       "      <td>11000</td>\n",
       "      <td>0.893800</td>\n",
       "      <td>0.918637</td>\n",
       "      <td>0.693360</td>\n",
       "    </tr>\n",
       "    <tr>\n",
       "      <td>11500</td>\n",
       "      <td>0.876900</td>\n",
       "      <td>0.920732</td>\n",
       "      <td>0.692260</td>\n",
       "    </tr>\n",
       "    <tr>\n",
       "      <td>12000</td>\n",
       "      <td>0.863300</td>\n",
       "      <td>0.927443</td>\n",
       "      <td>0.691500</td>\n",
       "    </tr>\n",
       "    <tr>\n",
       "      <td>12500</td>\n",
       "      <td>0.885300</td>\n",
       "      <td>0.915403</td>\n",
       "      <td>0.693700</td>\n",
       "    </tr>\n",
       "    <tr>\n",
       "      <td>13000</td>\n",
       "      <td>0.902000</td>\n",
       "      <td>0.915161</td>\n",
       "      <td>0.694300</td>\n",
       "    </tr>\n",
       "    <tr>\n",
       "      <td>13500</td>\n",
       "      <td>0.893000</td>\n",
       "      <td>0.914154</td>\n",
       "      <td>0.694700</td>\n",
       "    </tr>\n",
       "    <tr>\n",
       "      <td>14000</td>\n",
       "      <td>0.876100</td>\n",
       "      <td>0.915487</td>\n",
       "      <td>0.695860</td>\n",
       "    </tr>\n",
       "    <tr>\n",
       "      <td>14500</td>\n",
       "      <td>0.879400</td>\n",
       "      <td>0.914805</td>\n",
       "      <td>0.695820</td>\n",
       "    </tr>\n",
       "    <tr>\n",
       "      <td>15000</td>\n",
       "      <td>0.850100</td>\n",
       "      <td>0.919024</td>\n",
       "      <td>0.694500</td>\n",
       "    </tr>\n",
       "    <tr>\n",
       "      <td>15500</td>\n",
       "      <td>0.873600</td>\n",
       "      <td>0.914920</td>\n",
       "      <td>0.696700</td>\n",
       "    </tr>\n",
       "    <tr>\n",
       "      <td>16000</td>\n",
       "      <td>0.861900</td>\n",
       "      <td>0.915016</td>\n",
       "      <td>0.697480</td>\n",
       "    </tr>\n",
       "    <tr>\n",
       "      <td>16500</td>\n",
       "      <td>0.875700</td>\n",
       "      <td>0.913501</td>\n",
       "      <td>0.696460</td>\n",
       "    </tr>\n",
       "    <tr>\n",
       "      <td>17000</td>\n",
       "      <td>0.859100</td>\n",
       "      <td>0.913410</td>\n",
       "      <td>0.698520</td>\n",
       "    </tr>\n",
       "    <tr>\n",
       "      <td>17500</td>\n",
       "      <td>0.866600</td>\n",
       "      <td>0.910923</td>\n",
       "      <td>0.698480</td>\n",
       "    </tr>\n",
       "    <tr>\n",
       "      <td>18000</td>\n",
       "      <td>0.865500</td>\n",
       "      <td>0.911370</td>\n",
       "      <td>0.698280</td>\n",
       "    </tr>\n",
       "    <tr>\n",
       "      <td>18500</td>\n",
       "      <td>0.867800</td>\n",
       "      <td>0.911262</td>\n",
       "      <td>0.698400</td>\n",
       "    </tr>\n",
       "    <tr>\n",
       "      <td>19000</td>\n",
       "      <td>0.873700</td>\n",
       "      <td>0.911552</td>\n",
       "      <td>0.698620</td>\n",
       "    </tr>\n",
       "    <tr>\n",
       "      <td>19500</td>\n",
       "      <td>0.850700</td>\n",
       "      <td>0.910852</td>\n",
       "      <td>0.698680</td>\n",
       "    </tr>\n",
       "    <tr>\n",
       "      <td>20000</td>\n",
       "      <td>0.872000</td>\n",
       "      <td>0.910782</td>\n",
       "      <td>0.698740</td>\n",
       "    </tr>\n",
       "  </tbody>\n",
       "</table><p>"
      ],
      "text/plain": [
       "<IPython.core.display.HTML object>"
      ]
     },
     "metadata": {},
     "output_type": "display_data"
    },
    {
     "data": {
      "text/plain": [
       "TrainOutput(global_step=20312, training_loss=0.9252217751687415, metrics={'train_runtime': 31118.6981, 'train_samples_per_second': 41.776, 'train_steps_per_second': 0.653, 'total_flos': 3.420409555323617e+17, 'train_loss': 0.9252217751687415, 'epoch': 2.0})"
      ]
     },
     "execution_count": 9,
     "metadata": {},
     "output_type": "execute_result"
    }
   ],
   "source": [
    "trainer.train()"
   ]
  },
  {
   "cell_type": "markdown",
   "id": "dd7ab84d-344d-4350-8e73-e0bd1f0a88e5",
   "metadata": {},
   "source": [
    "# 感觉精确度也不高哈，训练了快8个小时，调了下符合目前我自己显卡能承受的范围的超参数"
   ]
  },
  {
   "cell_type": "code",
   "execution_count": null,
   "id": "935ac3a5-b4f3-4166-9e7b-00d254f6f676",
   "metadata": {},
   "outputs": [],
   "source": []
  }
 ],
 "metadata": {
  "kernelspec": {
   "display_name": "Python 3 (ipykernel)",
   "language": "python",
   "name": "python3"
  },
  "language_info": {
   "codemirror_mode": {
    "name": "ipython",
    "version": 3
   },
   "file_extension": ".py",
   "mimetype": "text/x-python",
   "name": "python",
   "nbconvert_exporter": "python",
   "pygments_lexer": "ipython3",
   "version": "3.10.18"
  }
 },
 "nbformat": 4,
 "nbformat_minor": 5
}
