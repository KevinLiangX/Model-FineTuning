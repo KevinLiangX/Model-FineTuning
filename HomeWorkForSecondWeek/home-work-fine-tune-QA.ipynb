{
 "cells": [
  {
   "cell_type": "markdown",
   "id": "2a11136e-5b17-41c8-a241-4c900b3acf38",
   "metadata": {},
   "source": [
    "## 测试环境代理是否正常"
   ]
  },
  {
   "cell_type": "code",
   "execution_count": 1,
   "id": "ba2cd28f-b433-4aea-bfad-bf237976d218",
   "metadata": {},
   "outputs": [
    {
     "name": "stdout",
     "output_type": "stream",
     "text": [
      "✅ HuggingFace 连接成功，状态码: 200\n",
      "Test server is ubuntu22.04 GPU 2080Ti 22G\n"
     ]
    }
   ],
   "source": [
    "# 测试代理\n",
    "import os\n",
    "import requests\n",
    "\n",
    "# 设置代理环境变量\n",
    "os.environ['HTTP_PROXY'] = 'http://127.0.0.1:7890'\n",
    "os.environ['HTTPS_PROXY'] = 'http://127.0.0.1:7890'\n",
    "os.environ['ALL_PROXY'] = 'socks5://127.0.0.1:7891'\n",
    "\n",
    "# 测试代理连接\n",
    "try:\n",
    "    response = requests.get('https://huggingface.co', timeout=10)\n",
    "    print(\"✅ HuggingFace 连接成功，状态码:\", response.status_code)\n",
    "    print(\"Test server is ubuntu22.04 GPU 2080Ti 22G\")\n",
    "except Exception as e:\n",
    "    print(\"连接失败:\", e)\n",
    "\n",
    "# 设置 HuggingFace 缓存路径\n",
    "os.environ['HF_HOME'] = '/home/KevinLiangX/Codes/LLM-quickstart-main/hf'\n",
    "os.environ['HF_HUB_CACHE'] = '/home/KevinLiangX/Codes/LLM-quickstart-main/hf_hu'\n",
    "\n",
    "# 服务器环境 ubuntu22.04 GPU 2080Ti 22G"
   ]
  },
  {
   "cell_type": "code",
   "execution_count": 2,
   "id": "51afe85b-d0bb-43b4-9a9c-ed3f07d6d4f8",
   "metadata": {},
   "outputs": [],
   "source": [
    "## 设置环境参数"
   ]
  },
  {
   "cell_type": "code",
   "execution_count": 3,
   "id": "f088351e-39be-440b-b899-c5da9b709a40",
   "metadata": {},
   "outputs": [],
   "source": [
    "# 根据你使用的模型和GPU资源情况，调整以下关键参数\n",
    "squad_v2 = False\n",
    "model_checkpoint = \"distilbert-base-uncased\"\n",
    "batch_size = 32"
   ]
  },
  {
   "cell_type": "markdown",
   "id": "2d4636c1-93d5-4671-bd45-7be9f43a8a2e",
   "metadata": {},
   "source": [
    "## 下载数据集-SQuAD 数据集"
   ]
  },
  {
   "cell_type": "code",
   "execution_count": 4,
   "id": "ccbf2b33-c056-4115-9905-296537be0b23",
   "metadata": {},
   "outputs": [],
   "source": [
    "from datasets import load_dataset\n",
    "datasets = load_dataset(\"squad_v2\" if squad_v2 else \"squad\")"
   ]
  },
  {
   "cell_type": "markdown",
   "id": "1cb6e5da-2e4b-451e-8a8f-3ac2022dade2",
   "metadata": {},
   "source": [
    "## 预处理数据"
   ]
  },
  {
   "cell_type": "code",
   "execution_count": 5,
   "id": "6679b1d1-4251-411c-beca-be560fa06179",
   "metadata": {},
   "outputs": [
    {
     "name": "stderr",
     "output_type": "stream",
     "text": [
      "/home/KevinLiangX/Codes/LLM-quickstart-main/.venv/lib/python3.10/site-packages/huggingface_hub/file_download.py:943: FutureWarning: `resume_download` is deprecated and will be removed in version 1.0.0. Downloads always resume when possible. If you want to force a new download, use `force_download=True`.\n",
      "  warnings.warn(\n"
     ]
    },
    {
     "data": {
      "application/vnd.jupyter.widget-view+json": {
       "model_id": "a7e3db6d42b8453ea8d2ea731c0263ed",
       "version_major": 2,
       "version_minor": 0
      },
      "text/plain": [
       "Map:   0%|          | 0/10570 [00:00<?, ? examples/s]"
      ]
     },
     "metadata": {},
     "output_type": "display_data"
    }
   ],
   "source": [
    "from transformers import AutoTokenizer\n",
    "    \n",
    "tokenizer = AutoTokenizer.from_pretrained(model_checkpoint)\n",
    "\n",
    "import transformers\n",
    "assert isinstance(tokenizer, transformers.PreTrainedTokenizerFast)\n",
    "\n",
    "# The maximum length of a feature (question and context)\n",
    "max_length = 384 \n",
    "# The authorized overlap between two part of the context when splitting it is needed.\n",
    "doc_stride = 128 \n",
    "\n",
    "pad_on_right = tokenizer.padding_side == \"right\"\n",
    "\n",
    "def prepare_train_features(examples):\n",
    "    # 一些问题的左侧可能有很多空白字符，这对我们没有用，而且会导致上下文的截断失败\n",
    "    # （标记化的问题将占用大量空间）。因此，我们删除左侧的空白字符。\n",
    "    examples[\"question\"] = [q.lstrip() for q in examples[\"question\"]]\n",
    "\n",
    "    # 使用截断和填充对我们的示例进行标记化，但保留溢出部分，使用步幅（stride）。\n",
    "    # 当上下文很长时，这会导致一个示例可能提供多个特征，其中每个特征的上下文都与前一个特征的上下文有一些重叠。\n",
    "    tokenized_examples = tokenizer(\n",
    "        examples[\"question\" if pad_on_right else \"context\"],\n",
    "        examples[\"context\" if pad_on_right else \"question\"],\n",
    "        truncation=\"only_second\" if pad_on_right else \"only_first\",\n",
    "        max_length=max_length,\n",
    "        stride=doc_stride,\n",
    "        return_overflowing_tokens=True,\n",
    "        return_offsets_mapping=True,\n",
    "        padding=\"max_length\",\n",
    "    )\n",
    "\n",
    "    # 由于一个示例可能给我们提供多个特征（如果它具有很长的上下文），我们需要一个从特征到其对应示例的映射。这个键就提供了这个映射关系。\n",
    "    sample_mapping = tokenized_examples.pop(\"overflow_to_sample_mapping\")\n",
    "    # 偏移映射将为我们提供从令牌到原始上下文中的字符位置的映射。这将帮助我们计算开始位置和结束位置。\n",
    "    offset_mapping = tokenized_examples.pop(\"offset_mapping\")\n",
    "\n",
    "    # 让我们为这些示例进行标记！\n",
    "    tokenized_examples[\"start_positions\"] = []\n",
    "    tokenized_examples[\"end_positions\"] = []\n",
    "\n",
    "    for i, offsets in enumerate(offset_mapping):\n",
    "        # 我们将使用 CLS 特殊 token 的索引来标记不可能的答案。\n",
    "        input_ids = tokenized_examples[\"input_ids\"][i]\n",
    "        cls_index = input_ids.index(tokenizer.cls_token_id)\n",
    "\n",
    "        # 获取与该示例对应的序列（以了解上下文和问题是什么）。\n",
    "        sequence_ids = tokenized_examples.sequence_ids(i)\n",
    "\n",
    "        # 一个示例可以提供多个跨度，这是包含此文本跨度的示例的索引。\n",
    "        sample_index = sample_mapping[i]\n",
    "        answers = examples[\"answers\"][sample_index]\n",
    "        # 如果没有给出答案，则将cls_index设置为答案。\n",
    "        if len(answers[\"answer_start\"]) == 0:\n",
    "            tokenized_examples[\"start_positions\"].append(cls_index)\n",
    "            tokenized_examples[\"end_positions\"].append(cls_index)\n",
    "        else:\n",
    "            # 答案在文本中的开始和结束字符索引。\n",
    "            start_char = answers[\"answer_start\"][0]\n",
    "            end_char = start_char + len(answers[\"text\"][0])\n",
    "\n",
    "            # 当前跨度在文本中的开始令牌索引。\n",
    "            token_start_index = 0\n",
    "            while sequence_ids[token_start_index] != (1 if pad_on_right else 0):\n",
    "                token_start_index += 1\n",
    "\n",
    "            # 当前跨度在文本中的结束令牌索引。\n",
    "            token_end_index = len(input_ids) - 1\n",
    "            while sequence_ids[token_end_index] != (1 if pad_on_right else 0):\n",
    "                token_end_index -= 1\n",
    "\n",
    "            # 检测答案是否超出跨度（在这种情况下，该特征的标签将使用CLS索引）。\n",
    "            if not (offsets[token_start_index][0] <= start_char and offsets[token_end_index][1] >= end_char):\n",
    "                tokenized_examples[\"start_positions\"].append(cls_index)\n",
    "                tokenized_examples[\"end_positions\"].append(cls_index)\n",
    "            else:\n",
    "                # 否则，将token_start_index和token_end_index移到答案的两端。\n",
    "                # 注意：如果答案是最后一个单词（边缘情况），我们可以在最后一个偏移之后继续。\n",
    "                while token_start_index < len(offsets) and offsets[token_start_index][0] <= start_char:\n",
    "                    token_start_index += 1\n",
    "                tokenized_examples[\"start_positions\"].append(token_start_index - 1)\n",
    "                while offsets[token_end_index][1] >= end_char:\n",
    "                    token_end_index -= 1\n",
    "                tokenized_examples[\"end_positions\"].append(token_end_index + 1)\n",
    "\n",
    "    return tokenized_examples\n",
    "\n",
    "tokenized_datasets = datasets.map(prepare_train_features,\n",
    "                                  batched=True,\n",
    "                                  remove_columns=datasets[\"train\"].column_names)"
   ]
  },
  {
   "cell_type": "markdown",
   "id": "c8a9789c-4224-496f-b7c6-0d7cdd8b9fae",
   "metadata": {},
   "source": [
    "## 微调模型"
   ]
  },
  {
   "cell_type": "code",
   "execution_count": 6,
   "id": "3ccec2be-352b-4a64-89b5-278434670bd8",
   "metadata": {},
   "outputs": [
    {
     "name": "stderr",
     "output_type": "stream",
     "text": [
      "/home/KevinLiangX/Codes/LLM-quickstart-main/.venv/lib/python3.10/site-packages/huggingface_hub/file_download.py:943: FutureWarning: `resume_download` is deprecated and will be removed in version 1.0.0. Downloads always resume when possible. If you want to force a new download, use `force_download=True`.\n",
      "  warnings.warn(\n",
      "Some weights of DistilBertForQuestionAnswering were not initialized from the model checkpoint at distilbert-base-uncased and are newly initialized: ['qa_outputs.bias', 'qa_outputs.weight']\n",
      "You should probably TRAIN this model on a down-stream task to be able to use it for predictions and inference.\n"
     ]
    }
   ],
   "source": [
    "from transformers import AutoModelForQuestionAnswering, TrainingArguments, Trainer\n",
    "\n",
    "model = AutoModelForQuestionAnswering.from_pretrained(model_checkpoint)\n",
    "\n",
    "# 训练超参数 （TrainingArguments）\n",
    "batch_size=64\n",
    "model_dir = f\"models/{model_checkpoint}-finetuned-squad\"\n",
    "\n",
    "args = TrainingArguments(\n",
    "    output_dir=model_dir,\n",
    "    evaluation_strategy = \"epoch\",\n",
    "    learning_rate=2e-5,\n",
    "    per_device_train_batch_size=batch_size,\n",
    "    per_device_eval_batch_size=batch_size,\n",
    "    num_train_epochs=3,\n",
    "    weight_decay=0.01,\n",
    ")\n",
    "# Data collator(数据整理器)\n",
    "from transformers import default_data_collator\n",
    "\n",
    "data_collator = default_data_collator\n",
    "# 实例化训练器(Trainer)\n",
    "trainer = Trainer(\n",
    "    model,\n",
    "    args,\n",
    "    train_dataset=tokenized_datasets[\"train\"],\n",
    "    eval_dataset=tokenized_datasets[\"validation\"],\n",
    "    data_collator=data_collator,\n",
    "    tokenizer=tokenizer,\n",
    ")\n"
   ]
  },
  {
   "cell_type": "code",
   "execution_count": 7,
   "id": "1f753215-3414-49e6-8719-9702f92c79d0",
   "metadata": {},
   "outputs": [
    {
     "data": {
      "text/html": [
       "\n",
       "    <div>\n",
       "      \n",
       "      <progress value='4152' max='4152' style='width:300px; height:20px; vertical-align: middle;'></progress>\n",
       "      [4152/4152 58:56, Epoch 3/3]\n",
       "    </div>\n",
       "    <table border=\"1\" class=\"dataframe\">\n",
       "  <thead>\n",
       " <tr style=\"text-align: left;\">\n",
       "      <th>Epoch</th>\n",
       "      <th>Training Loss</th>\n",
       "      <th>Validation Loss</th>\n",
       "    </tr>\n",
       "  </thead>\n",
       "  <tbody>\n",
       "    <tr>\n",
       "      <td>1</td>\n",
       "      <td>1.531200</td>\n",
       "      <td>1.273894</td>\n",
       "    </tr>\n",
       "    <tr>\n",
       "      <td>2</td>\n",
       "      <td>1.148600</td>\n",
       "      <td>1.182421</td>\n",
       "    </tr>\n",
       "    <tr>\n",
       "      <td>3</td>\n",
       "      <td>1.003000</td>\n",
       "      <td>1.172099</td>\n",
       "    </tr>\n",
       "  </tbody>\n",
       "</table><p>"
      ],
      "text/plain": [
       "<IPython.core.display.HTML object>"
      ]
     },
     "metadata": {},
     "output_type": "display_data"
    },
    {
     "data": {
      "text/plain": [
       "TrainOutput(global_step=4152, training_loss=1.3412248688626152, metrics={'train_runtime': 3537.5901, 'train_samples_per_second': 75.071, 'train_steps_per_second': 1.174, 'total_flos': 2.602335381127373e+16, 'train_loss': 1.3412248688626152, 'epoch': 3.0})"
      ]
     },
     "execution_count": 7,
     "metadata": {},
     "output_type": "execute_result"
    }
   ],
   "source": [
    "trainer.train()"
   ]
  },
  {
   "cell_type": "markdown",
   "id": "e694e0ad-703f-4af4-ada5-97a66b9aa43d",
   "metadata": {},
   "source": [
    "## 训练完成后，第一时间保存模型权重文件。"
   ]
  },
  {
   "cell_type": "code",
   "execution_count": 8,
   "id": "7d48044d-45e0-4099-8460-7c0de6eb8fd7",
   "metadata": {},
   "outputs": [],
   "source": [
    "model_to_save = trainer.save_model(model_dir)"
   ]
  },
  {
   "cell_type": "markdown",
   "id": "e3406b44-01b3-489a-8975-489b00f65603",
   "metadata": {},
   "source": [
    "## 加载本地模型"
   ]
  },
  {
   "cell_type": "code",
   "execution_count": 27,
   "id": "8e031d9b-b956-4236-a178-c690a43f5a60",
   "metadata": {},
   "outputs": [
    {
     "name": "stdout",
     "output_type": "stream",
     "text": [
      "模型加载完成: models/distilbert-base-uncased-finetuned-squad\n",
      "Tokenizer加载完成\n",
      "\n"
     ]
    }
   ],
   "source": [
    "# 加载模型和tokenizer\n",
    "trained_model = AutoModelForQuestionAnswering.from_pretrained(model_dir)\n",
    "tokenizer = AutoTokenizer.from_pretrained(model_dir)\n",
    "print(f\"模型加载完成: {model_dir}\")\n",
    "print(f\"Tokenizer加载完成\")\n",
    "print()"
   ]
  },
  {
   "cell_type": "markdown",
   "id": "6e160686-8b87-48aa-9784-4fd3718b1ca2",
   "metadata": {},
   "source": [
    "##  模型评估 "
   ]
  },
  {
   "cell_type": "code",
   "execution_count": 28,
   "id": "18f36b1a-8556-4690-a3f7-d82985a54086",
   "metadata": {},
   "outputs": [],
   "source": [
    "import numpy as np\n",
    "from tqdm.auto import tqdm\n",
    "import collections\n",
    "\n",
    "def prepare_validation_features(examples):\n",
    "    \"\"\"准备验证集特征，与训练集类似但不需要答案标签\"\"\"\n",
    "    # 清理问题文本\n",
    "    examples[\"question\"] = [q.lstrip() for q in examples[\"question\"]]\n",
    "\n",
    "    # Tokenize\n",
    "    tokenized_examples = tokenizer(\n",
    "        examples[\"question\" if pad_on_right else \"context\"],\n",
    "        examples[\"context\" if pad_on_right else \"question\"],\n",
    "        truncation=\"only_second\" if pad_on_right else \"only_first\",\n",
    "        max_length=max_length,\n",
    "        stride=doc_stride,\n",
    "        return_overflowing_tokens=True,\n",
    "        return_offsets_mapping=True,\n",
    "        padding=\"max_length\",\n",
    "    )\n",
    "\n",
    "    # 保存样本映射关系\n",
    "    sample_mapping = tokenized_examples.pop(\"overflow_to_sample_mapping\")\n",
    "    \n",
    "    # 为每个特征添加example_id\n",
    "    tokenized_examples[\"example_id\"] = []\n",
    "    \n",
    "    # 处理offset_mapping - 修复sequence_ids作用域问题\n",
    "    for i in range(len(tokenized_examples[\"input_ids\"])):\n",
    "        # 获取当前特征的sequence_ids\n",
    "        sequence_ids = tokenized_examples.sequence_ids(i)\n",
    "        context_index = 1 if pad_on_right else 0\n",
    "        sample_index = sample_mapping[i]\n",
    "        \n",
    "        # 添加example_id\n",
    "        tokenized_examples[\"example_id\"].append(examples[\"id\"][sample_index])\n",
    "        \n",
    "        # 设置不属于context的offset为None\n",
    "        tokenized_examples[\"offset_mapping\"][i] = [\n",
    "            (o if sequence_ids[k] == context_index else None)\n",
    "            for k, o in enumerate(tokenized_examples[\"offset_mapping\"][i])\n",
    "        ]\n",
    "\n",
    "    return tokenized_examples\n",
    "\n",
    "\n",
    "def postprocess_qa_predictions(examples, features, predictions, version_2_with_negative=False, n_best_size=20, max_answer_length=30):\n",
    "    \"\"\"后处理QA预测结果\"\"\"\n",
    "    \n",
    "    assert len(predictions) == 2, \"`predictions` should be a tuple with two elements (start_logits, end_logits).\"\n",
    "    all_start_logits, all_end_logits = predictions\n",
    "\n",
    "    # 构建从example到feature的映射\n",
    "    example_id_to_index = {k: i for i, k in enumerate(examples[\"id\"])}\n",
    "    features_per_example = collections.defaultdict(list)\n",
    "    for i, feature in enumerate(features):\n",
    "        features_per_example[example_id_to_index[feature[\"example_id\"]]].append(i)\n",
    "\n",
    "    # 我们需要填充的字典\n",
    "    predictions = collections.OrderedDict()\n",
    "\n",
    "    # 日志记录\n",
    "    print(f\"正在后处理 {len(examples)} 个示例的预测，这些预测分散在 {len(features)} 个特征中。\")\n",
    "\n",
    "    # 遍历所有示例\n",
    "    for example_index, example in enumerate(tqdm(examples)):\n",
    "        # 这些是与当前示例关联的特征的索引\n",
    "        feature_indices = features_per_example[example_index]\n",
    "\n",
    "        min_null_score = None # 仅在squad_v2为True时使用\n",
    "        valid_answers = []\n",
    "        \n",
    "        context = example[\"context\"]\n",
    "        # 遍历与当前示例关联的所有特征\n",
    "        for feature_index in feature_indices:\n",
    "            # 我们获取模型对这个特征的预测\n",
    "            start_logits = all_start_logits[feature_index]\n",
    "            end_logits = all_end_logits[feature_index]\n",
    "            # 这是将token映射到原始上下文中的字符位置的方法\n",
    "            offset_mapping = features[feature_index][\"offset_mapping\"]\n",
    "\n",
    "            # 更新最小空答案分数\n",
    "            cls_index = features[feature_index][\"input_ids\"].index(tokenizer.cls_token_id)\n",
    "            feature_null_score = start_logits[cls_index] + end_logits[cls_index]\n",
    "            if min_null_score is None or min_null_score < feature_null_score:\n",
    "                min_null_score = feature_null_score\n",
    "\n",
    "            # 浏览所有的最佳开始和结束logits，为 `n_best_size` 个最佳选择\n",
    "            start_indexes = np.argsort(start_logits)[-1 : -n_best_size - 1 : -1].tolist()\n",
    "            end_indexes = np.argsort(end_logits)[-1 : -n_best_size - 1 : -1].tolist()\n",
    "            for start_index in start_indexes:\n",
    "                for end_index in end_indexes:\n",
    "                    # 不考虑超出范围的答案，原因是索引超出范围或对应于输入ID的部分不在上下文中\n",
    "                    if (\n",
    "                        start_index >= len(offset_mapping)\n",
    "                        or end_index >= len(offset_mapping)\n",
    "                        or offset_mapping[start_index] is None\n",
    "                        or offset_mapping[end_index] is None\n",
    "                    ):\n",
    "                        continue\n",
    "                    # 不考虑长度小于0或大于max_answer_length的答案\n",
    "                    if end_index < start_index or end_index - start_index + 1 > max_answer_length:\n",
    "                        continue\n",
    "\n",
    "                    start_char = offset_mapping[start_index][0]\n",
    "                    end_char = offset_mapping[end_index][1]\n",
    "                    valid_answers.append(\n",
    "                        {\n",
    "                            \"score\": start_logits[start_index] + end_logits[end_index],\n",
    "                            \"text\": context[start_char: end_char]\n",
    "                        }\n",
    "                    )\n",
    "        \n",
    "        if len(valid_answers) > 0:\n",
    "            best_answer = sorted(valid_answers, key=lambda x: x[\"score\"], reverse=True)[0]\n",
    "        else:\n",
    "            # 在极少数情况下我们没有一个非空预测，我们创建一个假预测以避免失败\n",
    "            best_answer = {\"text\": \"\", \"score\": 0.0}\n",
    "        \n",
    "        # 选择我们的最终答案：最佳答案或空答案（仅适用于squad_v2）\n",
    "        if not squad_v2:\n",
    "            predictions[example[\"id\"]] = best_answer[\"text\"]\n",
    "        else:\n",
    "            answer = best_answer[\"text\"] if best_answer[\"score\"] > min_null_score else \"\"\n",
    "            predictions[example[\"id\"]] = answer\n",
    "\n",
    "    return predictions"
   ]
  },
  {
   "cell_type": "code",
   "execution_count": 29,
   "id": "a651b15a-eac7-4a46-b081-b977277ee75d",
   "metadata": {},
   "outputs": [
    {
     "name": "stdout",
     "output_type": "stream",
     "text": [
      "准备验证集特征...\n",
      "开始预测...\n"
     ]
    },
    {
     "data": {
      "text/html": [],
      "text/plain": [
       "<IPython.core.display.HTML object>"
      ]
     },
     "metadata": {},
     "output_type": "display_data"
    },
    {
     "name": "stdout",
     "output_type": "stream",
     "text": [
      "后处理预测结果...\n",
      "正在后处理 10570 个示例的预测，这些预测分散在 10784 个特征中。\n"
     ]
    },
    {
     "data": {
      "application/vnd.jupyter.widget-view+json": {
       "model_id": "10ff2bf3216b468994d7e6e39b574116",
       "version_major": 2,
       "version_minor": 0
      },
      "text/plain": [
       "  0%|          | 0/10570 [00:00<?, ?it/s]"
      ]
     },
     "metadata": {},
     "output_type": "display_data"
    },
    {
     "name": "stdout",
     "output_type": "stream",
     "text": [
      "计算评估指标...\n"
     ]
    },
    {
     "name": "stderr",
     "output_type": "stream",
     "text": [
      "/home/KevinLiangX/Codes/LLM-quickstart-main/.venv/lib/python3.10/site-packages/datasets/load.py:752: FutureWarning: The repository for squad contains custom code which must be executed to correctly load the metric. You can inspect the repository content at https://raw.githubusercontent.com/huggingface/datasets/2.16.1/metrics/squad/squad.py\n",
      "You can avoid this message in future by passing the argument `trust_remote_code=True`.\n",
      "Passing `trust_remote_code=True` will be mandatory to load this metric from the next major release of `datasets`.\n",
      "  warnings.warn(\n"
     ]
    },
    {
     "name": "stdout",
     "output_type": "stream",
     "text": [
      "评估结果:\n",
      "========================================\n",
      "exact_match: 74.7682\n",
      "f1: 83.4873\n"
     ]
    }
   ],
   "source": [
    "# ## 执行模型评估\n",
    "\n",
    "# 1. 准备验证集\n",
    "print(\"准备验证集特征...\")\n",
    "validation_features = datasets[\"validation\"].map(\n",
    "    prepare_validation_features,\n",
    "    batched=True,\n",
    "    remove_columns=datasets[\"validation\"].column_names\n",
    ")\n",
    "\n",
    "# 2. 使用训练好的模型进行预测\n",
    "print(\"开始预测...\")\n",
    "raw_predictions = trainer.predict(validation_features)\n",
    "\n",
    "# 3. 后处理预测结果\n",
    "print(\"后处理预测结果...\")\n",
    "final_predictions = postprocess_qa_predictions(\n",
    "    datasets[\"validation\"], \n",
    "    validation_features, \n",
    "    raw_predictions.predictions\n",
    ")\n",
    "\n",
    "# 4. 计算评估指标\n",
    "print(\"计算评估指标...\")\n",
    "from datasets import load_metric\n",
    "metric = load_metric(\"squad_v2\" if squad_v2 else \"squad\")\n",
    "\n",
    "# 格式化预测和标签\n",
    "formatted_predictions = [{\"id\": k, \"prediction_text\": v} for k, v in final_predictions.items()]\n",
    "references = [{\"id\": ex[\"id\"], \"answers\": ex[\"answers\"]} for ex in datasets[\"validation\"]]\n",
    "\n",
    "# 计算最终评估结果\n",
    "eval_results = metric.compute(predictions=formatted_predictions, references=references)\n",
    "\n",
    "print(\"评估结果:\")\n",
    "print(\"=\" * 40)\n",
    "for key, value in eval_results.items():\n",
    "    print(f\"{key}: {value:.4f}\")"
   ]
  },
  {
   "cell_type": "code",
   "execution_count": 30,
   "id": "88897db5-db79-4e60-8252-d96dc90e8ad2",
   "metadata": {},
   "outputs": [
    {
     "name": "stdout",
     "output_type": "stream",
     "text": [
      " 模型推理测试:\n",
      "==============================\n",
      "\n",
      "测试 1:\n",
      "问题: What is the capital of France?\n",
      "上下文: France is a country in Europe. The capital of France is Paris, which is also the largest city in the...\n",
      "答案: 'paris'\n",
      "置信度: 13.1589\n",
      "\n",
      "测试 2:\n",
      "问题: When was the company founded?\n",
      "上下文: Apple Inc. was founded in 1976 by Steve Jobs, Steve Wozniak, and Ronald Wayne. The company is headqu...\n",
      "答案: '1976'\n",
      "置信度: 12.3387\n"
     ]
    }
   ],
   "source": [
    "# ## 模型推理测试\n",
    "import torch\n",
    "\n",
    "def test_qa_model(model, tokenizer, question, context):\n",
    "    \"\"\"测试QA模型的推理能力\"\"\"\n",
    "    \n",
    "    # 准备输入\n",
    "    inputs = tokenizer(\n",
    "        question,\n",
    "        context,\n",
    "        return_tensors=\"pt\",\n",
    "        max_length=384,\n",
    "        truncation=True,\n",
    "        padding=True\n",
    "    )\n",
    "    \n",
    "    # 模型推理\n",
    "    with torch.no_grad():\n",
    "        outputs = model(**inputs)\n",
    "    \n",
    "    # 获取答案位置\n",
    "    start_scores = outputs.start_logits\n",
    "    end_scores = outputs.end_logits\n",
    "    \n",
    "    start_index = torch.argmax(start_scores)\n",
    "    end_index = torch.argmax(end_scores)\n",
    "    \n",
    "    # 提取答案\n",
    "    input_ids = inputs[\"input_ids\"][0]\n",
    "    answer_tokens = input_ids[start_index:end_index+1]\n",
    "    answer = tokenizer.decode(answer_tokens, skip_special_tokens=True)\n",
    "    \n",
    "    # 计算置信度\n",
    "    start_score = start_scores[0][start_index].item()\n",
    "    end_score = end_scores[0][end_index].item()\n",
    "    confidence = start_score + end_score\n",
    "    \n",
    "    return {\n",
    "        \"answer\": answer,\n",
    "        \"confidence\": confidence,\n",
    "        \"start_index\": start_index.item(),\n",
    "        \"end_index\": end_index.item()\n",
    "    }\n",
    "\n",
    "# 测试示例\n",
    "print(\" 模型推理测试:\")\n",
    "print(\"=\" * 30)\n",
    "\n",
    "test_cases = [\n",
    "    {\n",
    "        \"question\": \"What is the capital of France?\",\n",
    "        \"context\": \"France is a country in Europe. The capital of France is Paris, which is also the largest city in the country.\"\n",
    "    },\n",
    "    {\n",
    "        \"question\": \"When was the company founded?\",\n",
    "        \"context\": \"Apple Inc. was founded in 1976 by Steve Jobs, Steve Wozniak, and Ronald Wayne. The company is headquartered in Cupertino, California.\"\n",
    "    }\n",
    "]\n",
    "\n",
    "for i, test_case in enumerate(test_cases, 1):\n",
    "    print(f\"\\n测试 {i}:\")\n",
    "    print(f\"问题: {test_case['question']}\")\n",
    "    print(f\"上下文: {test_case['context'][:100]}...\")\n",
    "    \n",
    "    result = test_qa_model(trained_model, tokenizer, test_case['question'], test_case['context'])\n",
    "    \n",
    "    print(f\"答案: '{result['answer']}'\")\n",
    "    print(f\"置信度: {result['confidence']:.4f}\")"
   ]
  },
  {
   "cell_type": "markdown",
   "id": "3cad00d2-b0f1-419e-acbc-af2fae6e703f",
   "metadata": {},
   "source": [
    "## 调整训练参数"
   ]
  },
  {
   "cell_type": "code",
   "execution_count": 31,
   "id": "4a043cd6-f794-4f8b-b208-6b4cc141d941",
   "metadata": {},
   "outputs": [],
   "source": [
    "# ## 策略1：F1优化训练 - 调整训练超参数\n",
    "\n",
    "optimized_args_stable = TrainingArguments(\n",
    "    output_dir=f\"{model_dir}-f1-optimized-stable\",\n",
    "    \n",
    "    # === 评估方式 ===\n",
    "    evaluation_strategy=\"epoch\",  \n",
    "    \n",
    "    # === 优化的超参数 ===\n",
    "    learning_rate=1.5e-5,  # 从2e-5降低到1.5e-5，更稳定\n",
    "    per_device_train_batch_size=16,  # 从32降低到16，更稳定\n",
    "    per_device_eval_batch_size=32,   # 评估时可以更大\n",
    "    num_train_epochs=2,  # 额外训练2个epoch\n",
    "    \n",
    "    # === 增强正则化 ===\n",
    "    weight_decay=0.015,  # 从0.01增加到0.015\n",
    "    \n",
    "    # === 添加优化技术 ===\n",
    "    warmup_ratio=0.1,  # 添加warmup\n",
    "    lr_scheduler_type=\"cosine\",  # 添加学习率调度\n",
    "    \n",
    "    # === 性能优化 ===\n",
    "    fp16=True,  # 混合精度训练\n",
    "    gradient_accumulation_steps=2,  # 梯度累积\n",
    "    max_grad_norm=1.0,  # 梯度裁剪\n",
    "    \n",
    "    # === 保存策略 ===\n",
    "    save_strategy=\"epoch\",  # 每epoch保存\n",
    "    save_total_limit=2,  # 只保留最好的2个\n",
    "    \n",
    "    # === 其他设置 ===\n",
    "    logging_steps=100,\n",
    "    seed=42,\n",
    "    report_to=[],\n",
    "    remove_unused_columns=True,\n",
    ")"
   ]
  },
  {
   "cell_type": "code",
   "execution_count": 32,
   "id": "2f50787f-2b00-460e-bd56-04f1e8e2bb53",
   "metadata": {},
   "outputs": [],
   "source": [
    "stable_trainer = Trainer(\n",
    "    model=trained_model,  # 使用已训练的模型继续训练\n",
    "    args=optimized_args_stable,\n",
    "    train_dataset=tokenized_datasets[\"train\"],\n",
    "    eval_dataset=tokenized_datasets[\"validation\"],\n",
    "    data_collator=data_collator,  # 使用原始的data_collator\n",
    "    tokenizer=tokenizer,\n",
    ")\n"
   ]
  },
  {
   "cell_type": "code",
   "execution_count": 33,
   "id": "96840312-2d7d-4123-8d82-b3cf86ff0523",
   "metadata": {},
   "outputs": [
    {
     "name": "stdout",
     "output_type": "stream",
     "text": [
      "开始训练...\n"
     ]
    },
    {
     "data": {
      "text/html": [
       "\n",
       "    <div>\n",
       "      \n",
       "      <progress value='5532' max='5532' style='width:300px; height:20px; vertical-align: middle;'></progress>\n",
       "      [5532/5532 20:05, Epoch 1/2]\n",
       "    </div>\n",
       "    <table border=\"1\" class=\"dataframe\">\n",
       "  <thead>\n",
       " <tr style=\"text-align: left;\">\n",
       "      <th>Epoch</th>\n",
       "      <th>Training Loss</th>\n",
       "      <th>Validation Loss</th>\n",
       "    </tr>\n",
       "  </thead>\n",
       "  <tbody>\n",
       "    <tr>\n",
       "      <td>0</td>\n",
       "      <td>0.979400</td>\n",
       "      <td>1.157104</td>\n",
       "    </tr>\n",
       "    <tr>\n",
       "      <td>1</td>\n",
       "      <td>0.829000</td>\n",
       "      <td>1.165746</td>\n",
       "    </tr>\n",
       "  </tbody>\n",
       "</table><p>"
      ],
      "text/plain": [
       "<IPython.core.display.HTML object>"
      ]
     },
     "metadata": {},
     "output_type": "display_data"
    },
    {
     "name": "stderr",
     "output_type": "stream",
     "text": [
      "Checkpoint destination directory models/distilbert-base-uncased-finetuned-squad-f1-optimized-stable/checkpoint-2766 already exists and is non-empty.Saving will proceed but saved results may be invalid.\n",
      "Checkpoint destination directory models/distilbert-base-uncased-finetuned-squad-f1-optimized-stable/checkpoint-5532 already exists and is non-empty.Saving will proceed but saved results may be invalid.\n"
     ]
    },
    {
     "name": "stdout",
     "output_type": "stream",
     "text": [
      "\n",
      "F1优化训练完成！\n",
      "训练结果:\n",
      "• train_runtime: 1205.5841\n",
      "• train_samples_per_second: 146.8570\n",
      "• train_steps_per_second: 4.5890\n",
      "• total_flos: 17346158825748480.0000\n",
      "• train_loss: 0.8929\n",
      "• epoch: 2.0000\n",
      "\n",
      "保存优化模型...\n",
      "模型已保存到: models/distilbert-base-uncased-finetuned-squad-f1-optimized-stable\n",
      "\n",
      "训练成功完成！\n",
      "接下来评估优化效果\n"
     ]
    }
   ],
   "source": [
    "# 开始训练\n",
    "try:\n",
    "    print(\"开始训练...\")\n",
    "    stable_train_result = stable_trainer.train()\n",
    "    \n",
    "    print(\"\\nF1优化训练完成！\")\n",
    "    \n",
    "    # 显示训练指标\n",
    "    if hasattr(stable_train_result, 'metrics'):\n",
    "        print(\"训练结果:\")\n",
    "        for key, value in stable_train_result.metrics.items():\n",
    "            if isinstance(value, float):\n",
    "                print(f\"• {key}: {value:.4f}\")\n",
    "            else:\n",
    "                print(f\"• {key}: {value}\")\n",
    "    \n",
    "    # 保存模型\n",
    "    print(f\"\\n保存优化模型...\")\n",
    "    stable_trainer.save_model()\n",
    "    print(f\"模型已保存到: {optimized_args_stable.output_dir}\")\n",
    "    \n",
    "    print(\"\\n训练成功完成！\")\n",
    "    print(\"接下来评估优化效果\")\n",
    "    \n",
    "except Exception as e:\n",
    "    print(f\"训练失败: {e}\")\n",
    "    print(\"\\n🔧 如果出现内存问题，可以尝试:\")\n",
    "    print(\"• 减小per_device_train_batch_size到8\")\n",
    "    print(\"• 移除fp16=True\")\n",
    "    print(\"• 减小gradient_accumulation_steps到1\")"
   ]
  },
  {
   "cell_type": "code",
   "execution_count": 34,
   "id": "fc6afec5-a9a3-4b91-8f80-00a9ef9bbd29",
   "metadata": {},
   "outputs": [
    {
     "name": "stdout",
     "output_type": "stream",
     "text": [
      "步骤1: 准备验证集特征...\n",
      "验证集特征准备完成\n",
      "步骤2: 使用优化模型进行预测...\n"
     ]
    },
    {
     "data": {
      "text/html": [],
      "text/plain": [
       "<IPython.core.display.HTML object>"
      ]
     },
     "metadata": {},
     "output_type": "display_data"
    },
    {
     "name": "stdout",
     "output_type": "stream",
     "text": [
      "模型预测完成\n",
      "步骤3: 后处理预测结果...\n",
      "正在后处理 10570 个示例的预测，这些预测分散在 10784 个特征中。\n"
     ]
    },
    {
     "data": {
      "application/vnd.jupyter.widget-view+json": {
       "model_id": "90b3b8aa94e643669f865597c64a9716",
       "version_major": 2,
       "version_minor": 0
      },
      "text/plain": [
       "  0%|          | 0/10570 [00:00<?, ?it/s]"
      ]
     },
     "metadata": {},
     "output_type": "display_data"
    },
    {
     "name": "stdout",
     "output_type": "stream",
     "text": [
      "预测结果后处理完成\n",
      "步骤4: 计算评估指标...\n"
     ]
    },
    {
     "name": "stderr",
     "output_type": "stream",
     "text": [
      "/home/KevinLiangX/Codes/LLM-quickstart-main/.venv/lib/python3.10/site-packages/datasets/load.py:752: FutureWarning: The repository for squad contains custom code which must be executed to correctly load the metric. You can inspect the repository content at https://raw.githubusercontent.com/huggingface/datasets/2.16.1/metrics/squad/squad.py\n",
      "You can avoid this message in future by passing the argument `trust_remote_code=True`.\n",
      "Passing `trust_remote_code=True` will be mandatory to load this metric from the next major release of `datasets`.\n",
      "  warnings.warn(\n"
     ]
    },
    {
     "name": "stdout",
     "output_type": "stream",
     "text": [
      "评估指标计算完成\n",
      "\n",
      "使用原始评估方式的结果对比:\n",
      "======================================================================\n",
      "第一次微调结果 (原始评估方式):\n",
      "   • F1 Score: 83.4873\n",
      "   • Exact Match: 74.7682\n",
      "   • 训练配置: 3 epochs, lr=2e-5, batch=32\n",
      "\n",
      "优化结果 (相同评估方式):\n",
      "   • exact_match: 76.0170\n",
      "   • f1: 84.4804\n",
      "   • 训练配置: +2 epochs, lr=1.5e-5, batch=16, 优化超参数\n",
      "\n",
      "性能提升 (基于原始评估方式):\n",
      "   • F1 Score 提升: +0.9931 个百分点\n",
      "   • Exact Match 提升: +1.2488 个百分点\n",
      "   • F1 相对提升: +1.19%\n",
      "   • EM 相对提升: +1.67%\n"
     ]
    }
   ],
   "source": [
    "try:\n",
    "    # === 步骤1：准备验证集特征  ===\n",
    "    print(\"步骤1: 准备验证集特征...\")\n",
    "    # 使用原始的prepare_validation_features函数\n",
    "    stable_validation_features = datasets[\"validation\"].map(\n",
    "        prepare_validation_features,\n",
    "        batched=True,\n",
    "        remove_columns=datasets[\"validation\"].column_names\n",
    "    )\n",
    "    print(\"验证集特征准备完成\")\n",
    "    \n",
    "    # === 步骤2：使用优化模型进行预测  ===\n",
    "    print(\"步骤2: 使用优化模型进行预测...\")\n",
    "    stable_raw_predictions = stable_trainer.predict(stable_validation_features)\n",
    "    print(\"模型预测完成\")\n",
    "    \n",
    "    # === 步骤3：后处理预测结果  ===\n",
    "    print(\"步骤3: 后处理预测结果...\")\n",
    "    stable_final_predictions = postprocess_qa_predictions(\n",
    "        datasets[\"validation\"], \n",
    "        stable_validation_features, \n",
    "        stable_raw_predictions.predictions\n",
    "        # 使用原始的默认参数，不添加额外优化\n",
    "    )\n",
    "    print(\"预测结果后处理完成\")\n",
    "    \n",
    "    # === 步骤4：计算评估指标  ===\n",
    "    print(\"步骤4: 计算评估指标...\")\n",
    "    from datasets import load_metric\n",
    "    metric = load_metric(\"squad_v2\" if squad_v2 else \"squad\")\n",
    "    \n",
    "    # 格式化预测和标签\n",
    "    formatted_predictions = [{\"id\": k, \"prediction_text\": v} for k, v in stable_final_predictions.items()]\n",
    "    references = [{\"id\": ex[\"id\"], \"answers\": ex[\"answers\"]} for ex in datasets[\"validation\"]]\n",
    "    \n",
    "    # 计算最终评估结果 \n",
    "    stable_eval_results = metric.compute(predictions=formatted_predictions, references=references)\n",
    "    print(\"评估指标计算完成\")\n",
    "    \n",
    "    # === 显示对比结果 ===\n",
    "    print(\"\\n使用原始评估方式的结果对比:\")\n",
    "    print(\"=\" * 70)\n",
    "    print(\"第一次微调结果 (原始评估方式):\")\n",
    "    print(\"   • F1 Score: 83.4873\")\n",
    "    print(\"   • Exact Match: 74.7682\")\n",
    "    print(\"   • 训练配置: 3 epochs, lr=2e-5, batch=32\")\n",
    "    print()\n",
    "    print(\"优化结果 (相同评估方式):\")\n",
    "    for key, value in stable_eval_results.items():\n",
    "        print(f\"   • {key}: {value:.4f}\")\n",
    "    print(\"   • 训练配置: +2 epochs, lr=1.5e-5, batch=16, 优化超参数\")\n",
    "    print()\n",
    "    \n",
    "    # 计算提升 (使用原始评估结果作为基准)\n",
    "    f1_improvement = stable_eval_results['f1'] - 83.4873\n",
    "    em_improvement = stable_eval_results['exact_match'] - 74.7682\n",
    "    \n",
    "    print(\"性能提升 (基于原始评估方式):\")\n",
    "    print(f\"   • F1 Score 提升: {f1_improvement:+.4f} 个百分点\")\n",
    "    print(f\"   • Exact Match 提升: {em_improvement:+.4f} 个百分点\")\n",
    "    \n",
    "    # 相对提升百分比\n",
    "    f1_relative = (f1_improvement / 83.4873) * 100\n",
    "    em_relative = (em_improvement / 74.7682) * 100\n",
    "    print(f\"   • F1 相对提升: {f1_relative:+.2f}%\")\n",
    "    print(f\"   • EM 相对提升: {em_relative:+.2f}%\")\n",
    "   \n",
    "except Exception as e:\n",
    "    print(f\"评估失败: {e}\")\n",
    "    print(\"请确保稳定版训练已成功完成\")\n",
    "    import traceback\n",
    "    traceback.print_exc()"
   ]
  },
  {
   "cell_type": "code",
   "execution_count": null,
   "id": "50f9120d-e940-4c83-99fb-14ab03f10a52",
   "metadata": {},
   "outputs": [],
   "source": []
  }
 ],
 "metadata": {
  "kernelspec": {
   "display_name": "Python 3 (ipykernel)",
   "language": "python",
   "name": "python3"
  },
  "language_info": {
   "codemirror_mode": {
    "name": "ipython",
    "version": 3
   },
   "file_extension": ".py",
   "mimetype": "text/x-python",
   "name": "python",
   "nbconvert_exporter": "python",
   "pygments_lexer": "ipython3",
   "version": "3.10.18"
  }
 },
 "nbformat": 4,
 "nbformat_minor": 5
}
